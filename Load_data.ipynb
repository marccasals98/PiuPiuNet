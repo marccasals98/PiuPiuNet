{
  "nbformat": 4,
  "nbformat_minor": 0,
  "metadata": {
    "colab": {
      "provenance": [],
      "include_colab_link": true
    },
    "kernelspec": {
      "name": "python3",
      "display_name": "Python 3"
    },
    "language_info": {
      "name": "python"
    }
  },
  "cells": [
    {
      "cell_type": "markdown",
      "metadata": {
        "id": "view-in-github",
        "colab_type": "text"
      },
      "source": [
        "<a href=\"https://colab.research.google.com/github/marccasals98/PiuPiuNet/blob/main/Load_data.ipynb\" target=\"_parent\"><img src=\"https://colab.research.google.com/assets/colab-badge.svg\" alt=\"Open In Colab\"/></a>"
      ]
    },
    {
      "cell_type": "code",
      "source": [
        "from google.colab import drive\n",
        "drive.mount('/content/gdrive')"
      ],
      "metadata": {
        "colab": {
          "base_uri": "https://localhost:8080/"
        },
        "id": "5r3pSqAI2jsy",
        "outputId": "8bf8cb22-18dd-4d48-acfd-a04c3579f57a"
      },
      "execution_count": null,
      "outputs": [
        {
          "output_type": "stream",
          "name": "stdout",
          "text": [
            "Mounted at /content/gdrive\n"
          ]
        }
      ]
    },
    {
      "cell_type": "code",
      "source": [
        "!unzip gdrive/My\\ Drive/preprocessedData/preprocessedData.zip > /dev/null"
      ],
      "metadata": {
        "id": "t3gnJc3E2nAx"
      },
      "execution_count": null,
      "outputs": []
    },
    {
      "cell_type": "code",
      "source": [
        "!unzip gdrive/My\\ Drive/preprocessedData/preprocessedData_valid.zip > /dev/null"
      ],
      "metadata": {
        "id": "HBLO08K6RCs6"
      },
      "execution_count": null,
      "outputs": []
    },
    {
      "cell_type": "code",
      "source": [
        "!unzip gdrive/My\\ Drive/preprocessedData/preprocessedData_test.zip > /dev/null"
      ],
      "metadata": {
        "id": "WTPJacdGREFR"
      },
      "execution_count": null,
      "outputs": []
    },
    {
      "cell_type": "code",
      "source": [
        "!unzip gdrive/My\\ Drive/preprocessedData/valid_csv_file.zip > /dev/null"
      ],
      "metadata": {
        "id": "PvVBvmZ72uIz"
      },
      "execution_count": null,
      "outputs": []
    },
    {
      "cell_type": "code",
      "source": [
        "!unzip gdrive/My\\ Drive/preprocessedData/test_csv_file.zip > /dev/null"
      ],
      "metadata": {
        "id": "Tbz0P_iZ2uRb"
      },
      "execution_count": null,
      "outputs": []
    },
    {
      "cell_type": "code",
      "execution_count": null,
      "metadata": {
        "id": "AgCyhNdK2aOj"
      },
      "outputs": [],
      "source": [
        "import torch\n",
        "from torchvision import transforms, datasets\n",
        "\n",
        "data_transform = transforms.Compose([\n",
        "        transforms.ToTensor(), # Converts a PIL Image or numpy.ndarray (H x W x C) in the range [0, 255] \n",
        "                               # o a torch.FloatTensor of shape (C x H x W) in the range [0.0, 1.0] \n",
        "        transforms.Grayscale(num_output_channels=1),\n",
        "        transforms.Normalize(mean=[0.4495], # computed below\n",
        "                             std=[0.1798])  # computed below\n",
        "    ])\n",
        "train_set = datasets.ImageFolder(\n",
        "    root='preprocessedData/train/spec',\n",
        "    transform=data_transform\n",
        ")\n",
        "\n",
        "train_loader = torch.utils.data.DataLoader(\n",
        "    train_set,\n",
        "    batch_size=16, \n",
        "    shuffle=True,\n",
        "    drop_last=True,\n",
        ")"
      ]
    },
    {
      "cell_type": "code",
      "source": [
        "len(train_set)"
      ],
      "metadata": {
        "colab": {
          "base_uri": "https://localhost:8080/"
        },
        "id": "EEOLGTGnDJRc",
        "outputId": "9387817f-d449-44a2-ce5e-b1c863b0fb91"
      },
      "execution_count": null,
      "outputs": [
        {
          "output_type": "execute_result",
          "data": {
            "text/plain": [
              "31772"
            ]
          },
          "metadata": {},
          "execution_count": 14
        }
      ]
    },
    {
      "cell_type": "code",
      "source": [
        "# We can retrieve a sample from the dataset by simply indexing it\n",
        "img, label = train_set[25555]\n",
        "print('Img shape: ', img.shape)\n",
        "print('Label: ', label)\n",
        "\n",
        "# Similarly, we can sample a BATCH from the dataloader by running over its iterator\n",
        "iter_ = iter(train_loader)\n",
        "bimg, blabel = next(iter_)\n",
        "print('Batch Img shape: ', bimg.shape)\n",
        "print('Batch Label shape: ', blabel.shape)\n",
        "print(f'The Batched tensors return a collection of {bimg.shape[0]} grayscale images ({bimg.shape[1]} channel, {bimg.shape[2]} height pixels, {bimg.shape[3]} width pixels)')\n",
        "print(f'In the case of the labels, we obtain {blabel.shape[0]} batched integers, one per image')"
      ],
      "metadata": {
        "colab": {
          "base_uri": "https://localhost:8080/"
        },
        "id": "uw-Kdun-3cuc",
        "outputId": "40e84e32-b19a-4b4e-cf9c-e42037ed17cc"
      },
      "execution_count": null,
      "outputs": [
        {
          "output_type": "stream",
          "name": "stdout",
          "text": [
            "Img shape:  torch.Size([1, 128, 256])\n",
            "Label:  8\n",
            "Batch Img shape:  torch.Size([16, 1, 128, 256])\n",
            "Batch Label shape:  torch.Size([16])\n",
            "The Batched tensors return a collection of 16 grayscale images (1 channel, 128 height pixels, 256 width pixels)\n",
            "In the case of the labels, we obtain 16 batched integers, one per image\n"
          ]
        }
      ]
    },
    {
      "cell_type": "code",
      "source": [
        "print(f'We have a total number of {len(train_set)} samples on the Training set!')"
      ],
      "metadata": {
        "colab": {
          "base_uri": "https://localhost:8080/"
        },
        "id": "jcYGtRjC5sUQ",
        "outputId": "f211f7c3-df60-48be-d007-cb4dc0f394ef"
      },
      "execution_count": null,
      "outputs": [
        {
          "output_type": "stream",
          "name": "stdout",
          "text": [
            "We have a total number of 31772 samples on the Training set!\n"
          ]
        }
      ]
    },
    {
      "cell_type": "code",
      "source": [
        "import matplotlib.pyplot as plt\n",
        "from torchvision.utils import make_grid\n",
        "\n",
        "# make_grid is a function from the torchvision package that transforms a batch\n",
        "# of images to a grid of images\n",
        "img_grid = make_grid(bimg) \n",
        "\n",
        "plt.figure(figsize = (10, 10))\n",
        "plt.imshow(img_grid.permute(1, 2, 0), interpolation='nearest')"
      ],
      "metadata": {
        "colab": {
          "base_uri": "https://localhost:8080/",
          "height": 158
        },
        "id": "xV-5R7rT4CGI",
        "outputId": "f77c5715-2849-42b1-98e5-d7792b35bb99"
      },
      "execution_count": null,
      "outputs": [
        {
          "output_type": "stream",
          "name": "stderr",
          "text": [
            "WARNING:matplotlib.image:Clipping input data to the valid range for imshow with RGB data ([0..1] for floats or [0..255] for integers).\n"
          ]
        },
        {
          "output_type": "execute_result",
          "data": {
            "text/plain": [
              "<matplotlib.image.AxesImage at 0x7f79d6e45b80>"
            ]
          },
          "metadata": {},
          "execution_count": 17
        },
        {
          "output_type": "display_data",
          "data": {
            "text/plain": [
              "<Figure size 720x720 with 1 Axes>"
            ],
            "image/png": "[encoded data removed]"
          },
          "metadata": {
            "needs_background": "light"
          }
        }
      ]
    },
    {
      "cell_type": "code",
      "source": [
        "import numpy\n",
        "\n",
        "def unnormalize_img(img: torch.tensor) -> numpy.array:\n",
        "  mean=0.4495\n",
        "  std=0.1798\n",
        "\n",
        "  img = img * std + mean\n",
        "  img_npy = img.permute(1, 2, 0).numpy().squeeze()\n",
        "\n",
        "  return img_npy"
      ],
      "metadata": {
        "id": "H2SQ3P6p3U-I"
      },
      "execution_count": null,
      "outputs": []
    },
    {
      "cell_type": "code",
      "source": [
        "import matplotlib.pyplot as plt\n",
        "\n",
        "img, label = train_set[6]\n",
        "print('Img shape: ', img.shape)\n",
        "print(f'min_value = {img.min()}, max_value = {img.max()}')\n",
        "print('Label: ', label)\n",
        "\n",
        "img_npy = unnormalize_img(img)\n",
        "print('\\nAfter unnormalization: ')\n",
        "print(f'min_value = {img_npy.min()}, max_value = {img_npy.max()}')\n",
        "print('Img shape: ', img_npy.shape)\n",
        "plt.imshow(img_npy, cmap='gray')"
      ],
      "metadata": {
        "colab": {
          "base_uri": "https://localhost:8080/",
          "height": 358
        },
        "id": "vnOeg_kR4LzB",
        "outputId": "67426be3-a136-4eaf-f6b1-9bc6cb1cac35"
      },
      "execution_count": null,
      "outputs": [
        {
          "output_type": "stream",
          "name": "stdout",
          "text": [
            "Img shape:  torch.Size([1, 128, 256])\n",
            "min_value = -2.5, max_value = 3.0611791610717773\n",
            "Label:  0\n",
            "\n",
            "After unnormalization: \n",
            "min_value = -2.9802322387695312e-08, max_value = 0.9998999834060669\n",
            "Img shape:  (128, 256)\n"
          ]
        },
        {
          "output_type": "execute_result",
          "data": {
            "text/plain": [
              "<matplotlib.image.AxesImage at 0x7f79d6919d30>"
            ]
          },
          "metadata": {},
          "execution_count": 19
        },
        {
          "output_type": "display_data",
          "data": {
            "text/plain": [
              "<Figure size 432x288 with 1 Axes>"
            ],
            "image/png": "[encoded data removed]"
          },
          "metadata": {
            "needs_background": "light"
          }
        }
      ]
    },
    {
      "cell_type": "markdown",
      "source": [
        "### Compute mean and std for the whole training set as representative statistics of the whole dataset"
      ],
      "metadata": {
        "id": "I2Uh4hTUYoU7"
      }
    },
    {
      "cell_type": "code",
      "source": [
        "from tqdm import tqdm\n",
        "####### COMPUTE MEAN / STD\n",
        "\n",
        "# placeholders\n",
        "psum    = torch.tensor([0.0])\n",
        "psum_sq = torch.tensor([0.0])\n",
        "\n",
        "# loop through images\n",
        "for bimg, blabel in tqdm(train_loader):\n",
        "    psum    += bimg.sum(axis        = [0, 2, 3])\n",
        "    psum_sq += (bimg ** 2).sum(axis = [0, 2, 3])"
      ],
      "metadata": {
        "colab": {
          "base_uri": "https://localhost:8080/"
        },
        "id": "Oq8TsvhYYwxZ",
        "outputId": "9ce684a3-9494-40c8-8681-4a53d06f2e49"
      },
      "execution_count": null,
      "outputs": [
        {
          "output_type": "stream",
          "name": "stderr",
          "text": [
            "100%|██████████| 1985/1985 [01:04<00:00, 30.54it/s]\n"
          ]
        }
      ]
    },
    {
      "cell_type": "code",
      "source": [
        "####### FINAL CALCULATIONS\n",
        "\n",
        "# pixel count\n",
        "count = len(train_set) * bimg.shape[2] * bimg.shape[3]\n",
        "\n",
        "# mean and std\n",
        "total_mean = psum / count\n",
        "total_var  = (psum_sq / count) - (total_mean ** 2)\n",
        "total_std  = torch.sqrt(total_var)\n",
        "\n",
        "# output\n",
        "print('mean: '  + str(total_mean))\n",
        "print('std:  '  + str(total_std))"
      ],
      "metadata": {
        "colab": {
          "base_uri": "https://localhost:8080/"
        },
        "id": "MTr9D_iba8du",
        "outputId": "7bc8c847-648a-481f-b872-888f04dc1b72"
      },
      "execution_count": null,
      "outputs": [
        {
          "output_type": "stream",
          "name": "stdout",
          "text": [
            "mean: tensor([-0.0003])\n",
            "std:  tensor([0.9997])\n"
          ]
        }
      ]
    },
    {
      "cell_type": "markdown",
      "source": [
        "### Compute class weights to deal with dataset imbalance"
      ],
      "metadata": {
        "id": "ONJ1LRbyuCRV"
      }
    },
    {
      "cell_type": "code",
      "source": [
        "from tqdm import tqdm\n",
        "\n",
        "count = torch.zeros((1,10), dtype=torch.int32)\n",
        "\n",
        "# Count total number of occurrences of each class along the whole trainingset\n",
        "for bimg, blabel in tqdm(train_loader):\n",
        "\n",
        "    count += torch.bincount(blabel, minlength=10)\n",
        "\n",
        "print(count)"
      ],
      "metadata": {
        "colab": {
          "base_uri": "https://localhost:8080/"
        },
        "id": "LraqSl3KcOJC",
        "outputId": "8d6d0e25-d449-454d-9b0f-9fb0779fdffa"
      },
      "execution_count": null,
      "outputs": [
        {
          "output_type": "stream",
          "name": "stderr",
          "text": [
            "100%|██████████| 1985/1985 [00:53<00:00, 37.42it/s]"
          ]
        },
        {
          "output_type": "stream",
          "name": "stdout",
          "text": [
            "tensor([[4890, 6642, 1444, 1759, 1035, 5122, 1385, 2186, 5443, 1854]],\n",
            "       dtype=torch.int32)\n"
          ]
        },
        {
          "output_type": "stream",
          "name": "stderr",
          "text": [
            "\n"
          ]
        }
      ]
    },
    {
      "cell_type": "code",
      "source": [
        "freq = count / count.sum()\n",
        "print(freq)"
      ],
      "metadata": {
        "colab": {
          "base_uri": "https://localhost:8080/"
        },
        "id": "IZ3GvX9_ynl3",
        "outputId": "0a3ba178-378b-4f9c-e19a-ce8cdf5f9757"
      },
      "execution_count": null,
      "outputs": [
        {
          "output_type": "stream",
          "name": "stdout",
          "text": [
            "tensor([[0.1540, 0.2091, 0.0455, 0.0554, 0.0326, 0.1613, 0.0436, 0.0688, 0.1714,\n",
            "         0.0584]])\n"
          ]
        }
      ]
    },
    {
      "cell_type": "code",
      "source": [
        "# The weights should be inversely proportional to the frequency of occurrence of each class in the dataset, \n",
        "# so classes that have less appearance are weighted more\n",
        "\n",
        "#  We used the following expression to compute the weights, as indicated in the paper\n",
        "# {Adam Paszke, Abhishek Chaurasia, Sangpil Kim, and Eugenio Culurciello. Enet:\n",
        "#  A deep neural network architecture for real-time semantic segmentation. CoRR, abs/1606.02147, 2016}\n",
        "\n",
        "#            wn = 1 / ln(1.02 + βn)\n",
        "\n",
        "# where βn corresponds to the frequency of occurrence of the class, and the term 1.02 is added for stability.\n",
        "\n",
        "weights = 1 / torch.log(1.02 + freq)\n",
        "print(weights)"
      ],
      "metadata": {
        "colab": {
          "base_uri": "https://localhost:8080/"
        },
        "id": "C8OmuQ1n0dsG",
        "outputId": "a94190ae-4e63-4940-ea6c-342a799282e6"
      },
      "execution_count": null,
      "outputs": [
        {
          "output_type": "stream",
          "name": "stdout",
          "text": [
            "tensor([[ 6.2348,  4.8471, 15.7698, 13.7593, 19.5114,  6.0027, 16.2161, 11.7505,\n",
            "          5.7106, 13.2528]])\n"
          ]
        }
      ]
    },
    {
      "cell_type": "markdown",
      "source": [
        "### CUSTOM DATASET CLASS FOR VALIDATION AND TEST"
      ],
      "metadata": {
        "id": "CNTewOW0RWSJ"
      }
    },
    {
      "cell_type": "code",
      "source": [
        "from torch.utils.data import Dataset, DataLoader"
      ],
      "metadata": {
        "id": "C2tqDZZYRmdV"
      },
      "execution_count": null,
      "outputs": []
    },
    {
      "cell_type": "code",
      "source": [
        "import os\n",
        "import csv\n",
        "import pandas as pd"
      ],
      "metadata": {
        "id": "IBfJzcXaZfpI"
      },
      "execution_count": null,
      "outputs": []
    },
    {
      "cell_type": "code",
      "source": [
        "VALID_DATA_PATH = 'preprocessedData/validation/spec'\n",
        "TEST_DATA_PATH = 'preprocessedData/test/spec'"
      ],
      "metadata": {
        "id": "2RvhSxa2t-pO"
      },
      "execution_count": null,
      "outputs": []
    },
    {
      "cell_type": "code",
      "source": [
        "# open the file in the write mode\n",
        "fi = open('preprocessedData/test_csv_file', 'w')\n",
        "# create the csv writer\n",
        "writer = csv.writer(fi)\n",
        "writer.writerow(['first_image_name', 'class', 'num_specs'])\n",
        "\n",
        "# List of classes, subfolders as class names\n",
        "CLASSES = [c for c in sorted(os.listdir(TEST_DATA_PATH))]\n",
        "\n",
        "data = []\n",
        "numSpecs = 0\n",
        "\n",
        "# Parse every class\n",
        "for c_idx, c in enumerate(CLASSES):\n",
        "\n",
        "    # List all audio files\n",
        "    FILES = [f for f in sorted(os.listdir(os.path.join(TEST_DATA_PATH, c)))]\n",
        "\n",
        "    for f_idx, f in enumerate(FILES):\n",
        "\n",
        "        f_bird = f.split('_')[0]\n",
        "        f_spec = int(f.split('_')[2][-2:])\n",
        "\n",
        "        if f_spec == 0:\n",
        "            if not data:\n",
        "                data.append(FILES[f_idx])\n",
        "                data.append(c_idx)\n",
        "            else:     \n",
        "                data.append(numSpecs)\n",
        "                writer.writerow(data)\n",
        "\n",
        "                data = []\n",
        "                numSpecs = 0\n",
        "                data.append(FILES[f_idx])\n",
        "                data.append(c_idx)\n",
        "          \n",
        "        numSpecs += 1 \n",
        "\n",
        "# close the file\n",
        "fi.close()      \n",
        "        "
      ],
      "metadata": {
        "id": "-fuUdbjkZfrX"
      },
      "execution_count": null,
      "outputs": []
    },
    {
      "cell_type": "code",
      "source": [
        "df = pd.read_csv(\"preprocessedData/valid_csv_file\")"
      ],
      "metadata": {
        "id": "nmaE4j6IdDo2"
      },
      "execution_count": null,
      "outputs": []
    },
    {
      "cell_type": "code",
      "source": [
        "df.head()"
      ],
      "metadata": {
        "id": "mhdQZVMgdIEk",
        "colab": {
          "base_uri": "https://localhost:8080/",
          "height": 206
        },
        "outputId": "7c5becd7-e3c3-415c-b818-b984ce87789a"
      },
      "execution_count": null,
      "outputs": [
        {
          "output_type": "execute_result",
          "data": {
            "text/plain": [
              "                                    first_image_name  class  num_specs\n",
              "0  Cardueliscarduelis179322_SpecIdx_000_SNR_0401.png      0         20\n",
              "1  Cardueliscarduelis236446_SpecIdx_000_SNR_1405.png      0         20\n",
              "2  Cardueliscarduelis239679_SpecIdx_000_SNR_0315.png      0         18\n",
              "3  Cardueliscarduelis239684_SpecIdx_000_SNR_0012.png      0         20\n",
              "4  Cardueliscarduelis243565_SpecIdx_000_SNR_0517.png      0         20"
            ],
            "text/html": [
              "\n",
              "  <div id=\"df-1ba0ff6a-f0e5-4b9e-b578-649f45631092\">\n",
              "    <div class=\"colab-df-container\">\n",
              "      <div>\n",
              "<style scoped>\n",
              "    .dataframe tbody tr th:only-of-type {\n",
              "        vertical-align: middle;\n",
              "    }\n",
              "\n",
              "    .dataframe tbody tr th {\n",
              "        vertical-align: top;\n",
              "    }\n",
              "\n",
              "    .dataframe thead th {\n",
              "        text-align: right;\n",
              "    }\n",
              "</style>\n",
              "<table border=\"1\" class=\"dataframe\">\n",
              "  <thead>\n",
              "    <tr style=\"text-align: right;\">\n",
              "      <th></th>\n",
              "      <th>first_image_name</th>\n",
              "      <th>class</th>\n",
              "      <th>num_specs</th>\n",
              "    </tr>\n",
              "  </thead>\n",
              "  <tbody>\n",
              "    <tr>\n",
              "      <th>0</th>\n",
              "      <td>Cardueliscarduelis179322_SpecIdx_000_SNR_0401.png</td>\n",
              "      <td>0</td>\n",
              "      <td>20</td>\n",
              "    </tr>\n",
              "    <tr>\n",
              "      <th>1</th>\n",
              "      <td>Cardueliscarduelis236446_SpecIdx_000_SNR_1405.png</td>\n",
              "      <td>0</td>\n",
              "      <td>20</td>\n",
              "    </tr>\n",
              "    <tr>\n",
              "      <th>2</th>\n",
              "      <td>Cardueliscarduelis239679_SpecIdx_000_SNR_0315.png</td>\n",
              "      <td>0</td>\n",
              "      <td>18</td>\n",
              "    </tr>\n",
              "    <tr>\n",
              "      <th>3</th>\n",
              "      <td>Cardueliscarduelis239684_SpecIdx_000_SNR_0012.png</td>\n",
              "      <td>0</td>\n",
              "      <td>20</td>\n",
              "    </tr>\n",
              "    <tr>\n",
              "      <th>4</th>\n",
              "      <td>Cardueliscarduelis243565_SpecIdx_000_SNR_0517.png</td>\n",
              "      <td>0</td>\n",
              "      <td>20</td>\n",
              "    </tr>\n",
              "  </tbody>\n",
              "</table>\n",
              "</div>\n",
              "      <button class=\"colab-df-convert\" onclick=\"convertToInteractive('df-1ba0ff6a-f0e5-4b9e-b578-649f45631092')\"\n",
              "              title=\"Convert this dataframe to an interactive table.\"\n",
              "              style=\"display:none;\">\n",
              "        \n",
              "  <svg xmlns=\"http://www.w3.org/2000/svg\" height=\"24px\"viewBox=\"0 0 24 24\"\n",
              "       width=\"24px\">\n",
              "    <path d=\"M0 0h24v24H0V0z\" fill=\"none\"/>\n",
              "    <path d=\"M18.56 5.44l.94 2.06.94-2.06 2.06-.94-2.06-.94-.94-2.06-.94 2.06-2.06.94zm-11 1L8.5 8.5l.94-2.06 2.06-.94-2.06-.94L8.5 2.5l-.94 2.06-2.06.94zm10 10l.94 2.06.94-2.06 2.06-.94-2.06-.94-.94-2.06-.94 2.06-2.06.94z\"/><path d=\"M17.41 7.96l-1.37-1.37c-.4-.4-.92-.59-1.43-.59-.52 0-1.04.2-1.43.59L10.3 9.45l-7.72 7.72c-.78.78-.78 2.05 0 2.83L4 21.41c.39.39.9.59 1.41.59.51 0 1.02-.2 1.41-.59l7.78-7.78 2.81-2.81c.8-.78.8-2.07 0-2.86zM5.41 20L4 18.59l7.72-7.72 1.47 1.35L5.41 20z\"/>\n",
              "  </svg>\n",
              "      </button>\n",
              "      \n",
              "  <style>\n",
              "    .colab-df-container {\n",
              "      display:flex;\n",
              "      flex-wrap:wrap;\n",
              "      gap: 12px;\n",
              "    }\n",
              "\n",
              "    .colab-df-convert {\n",
              "      background-color: #E8F0FE;\n",
              "      border: none;\n",
              "      border-radius: 50%;\n",
              "      cursor: pointer;\n",
              "      display: none;\n",
              "      fill: #1967D2;\n",
              "      height: 32px;\n",
              "      padding: 0 0 0 0;\n",
              "      width: 32px;\n",
              "    }\n",
              "\n",
              "    .colab-df-convert:hover {\n",
              "      background-color: #E2EBFA;\n",
              "      box-shadow: 0px 1px 2px rgba(60, 64, 67, 0.3), 0px 1px 3px 1px rgba(60, 64, 67, 0.15);\n",
              "      fill: #174EA6;\n",
              "    }\n",
              "\n",
              "    [theme=dark] .colab-df-convert {\n",
              "      background-color: #3B4455;\n",
              "      fill: #D2E3FC;\n",
              "    }\n",
              "\n",
              "    [theme=dark] .colab-df-convert:hover {\n",
              "      background-color: #434B5C;\n",
              "      box-shadow: 0px 1px 3px 1px rgba(0, 0, 0, 0.15);\n",
              "      filter: drop-shadow(0px 1px 2px rgba(0, 0, 0, 0.3));\n",
              "      fill: #FFFFFF;\n",
              "    }\n",
              "  </style>\n",
              "\n",
              "      <script>\n",
              "        const buttonEl =\n",
              "          document.querySelector('#df-1ba0ff6a-f0e5-4b9e-b578-649f45631092 button.colab-df-convert');\n",
              "        buttonEl.style.display =\n",
              "          google.colab.kernel.accessAllowed ? 'block' : 'none';\n",
              "\n",
              "        async function convertToInteractive(key) {\n",
              "          const element = document.querySelector('#df-1ba0ff6a-f0e5-4b9e-b578-649f45631092');\n",
              "          const dataTable =\n",
              "            await google.colab.kernel.invokeFunction('convertToInteractive',\n",
              "                                                     [key], {});\n",
              "          if (!dataTable) return;\n",
              "\n",
              "          const docLinkHtml = 'Like what you see? Visit the ' +\n",
              "            '<a target=\"_blank\" href=https://colab.research.google.com/notebooks/data_table.ipynb>data table notebook</a>'\n",
              "            + ' to learn more about interactive tables.';\n",
              "          element.innerHTML = '';\n",
              "          dataTable['output_type'] = 'display_data';\n",
              "          await google.colab.output.renderOutput(dataTable, element);\n",
              "          const docLink = document.createElement('div');\n",
              "          docLink.innerHTML = docLinkHtml;\n",
              "          element.appendChild(docLink);\n",
              "        }\n",
              "      </script>\n",
              "    </div>\n",
              "  </div>\n",
              "  "
            ]
          },
          "metadata": {},
          "execution_count": 11
        }
      ]
    },
    {
      "cell_type": "code",
      "source": [
        "df['num_specs'].sum()"
      ],
      "metadata": {
        "colab": {
          "base_uri": "https://localhost:8080/"
        },
        "id": "Z-E8HtNpC3Ps",
        "outputId": "9a59e456-6d24-4b7e-f8f0-3ad3088f008b"
      },
      "execution_count": null,
      "outputs": [
        {
          "output_type": "execute_result",
          "data": {
            "text/plain": [
              "3651"
            ]
          },
          "metadata": {},
          "execution_count": 16
        }
      ]
    },
    {
      "cell_type": "code",
      "source": [
        "import os\n",
        "from PIL import Image\n",
        "\n",
        "class CustomDataset(Dataset):\n",
        "    \"\"\"Face Landmarks dataset.\"\"\"\n",
        "\n",
        "    def __init__(self, csv_file, root_dir, transform=None):\n",
        "        \"\"\"\n",
        "        Args:\n",
        "            csv_file (string): Path to the csv file with annotations.\n",
        "            root_dir (string): Directory with all the images.\n",
        "            transform (callable, optional): Optional transform to be applied\n",
        "                on a sample.\n",
        "        \"\"\"\n",
        "        self.data_frame = pd.read_csv(csv_file)\n",
        "        self.root_dir = root_dir\n",
        "        self.transform = transform\n",
        "        self.CLASSES = [c for c in sorted(os.listdir(self.root_dir))]\n",
        "\n",
        "    def __len__(self):\n",
        "        return len(self.data_frame)\n",
        "\n",
        "    def __getitem__(self, idx):\n",
        "        if torch.is_tensor(idx):\n",
        "            idx = idx.tolist()\n",
        "        images = []\n",
        "\n",
        "        img_name = self.data_frame.iloc[idx,0].split('_')[0]\n",
        "        label = self.data_frame.iloc[idx,1]\n",
        "        num_specs = self.data_frame.iloc[idx,2]\n",
        "        PATH = os.path.join(self.root_dir, CLASSES[label])\n",
        "\n",
        "        FILES = [f for f in sorted(os.listdir(PATH)) if f.startswith(img_name)]\n",
        "\n",
        "        for img in FILES:\n",
        "\n",
        "          img_path = os.path.join(PATH, img)\n",
        "          img = Image.open(img_path)\n",
        "          img = img.convert(\"RGB\")\n",
        "          if self.transform:\n",
        "              img = self.transform(img)\n",
        "          \n",
        "          images.append(img)\n",
        "\n",
        "        return (images, label)"
      ],
      "metadata": {
        "id": "7-0A50xdlqQc"
      },
      "execution_count": null,
      "outputs": []
    },
    {
      "cell_type": "code",
      "source": [
        "import torch\n",
        "from torchvision import transforms, datasets\n",
        "\n",
        "data_transform = transforms.Compose([\n",
        "        transforms.ToTensor(), # Converts a PIL Image or numpy.ndarray (H x W x C) in the range [0, 255] \n",
        "                               # o a torch.FloatTensor of shape (C x H x W) in the range [0.0, 1.0] \n",
        "        transforms.Grayscale(num_output_channels=1),\n",
        "        transforms.Normalize(mean=[0.4495], # computed below\n",
        "                             std=[0.1798])  # computed below\n",
        "    ])\n",
        "\n",
        "\n",
        "valid_set = CustomDataset(\n",
        "    \"preprocessedData/valid_csv_file\",\n",
        "    \"preprocessedData/validation/spec\",\n",
        "    data_transform\n",
        "    )\n",
        "\n",
        "valid_loader = torch.utils.data.DataLoader(\n",
        "    valid_set,\n",
        "    batch_size=1, \n",
        "    shuffle=False,\n",
        "    drop_last=False,\n",
        ")\n",
        "\n",
        "test_set = CustomDataset(\n",
        "    \"preprocessedData/test_csv_file\",\n",
        "    \"preprocessedData/test/spec\",\n",
        "    data_transform\n",
        "    )\n",
        "\n",
        "test_loader = torch.utils.data.DataLoader(\n",
        "    test_set,\n",
        "    batch_size=1, \n",
        "    shuffle=False,\n",
        "    drop_last=False,\n",
        ")"
      ],
      "metadata": {
        "id": "Cr_t66r1sLoE"
      },
      "execution_count": null,
      "outputs": []
    },
    {
      "cell_type": "code",
      "source": [
        "# We can retrieve a sample from the dataset by simply indexing it\n",
        "images, label = valid_set[0]\n",
        "print('Number of specs: ', len(images))\n",
        "print('Label: ', label)\n",
        "print(len(valid_set))\n",
        "\n",
        "images, label = test_set[0]\n",
        "print('Number of specs: ', len(images))\n",
        "print('Label: ', label)\n",
        "print(len(test_set))"
      ],
      "metadata": {
        "colab": {
          "base_uri": "https://localhost:8080/"
        },
        "id": "cFMH75rxspkA",
        "outputId": "3390fd43-2284-4f92-fa04-1efaf1aa57c7"
      },
      "execution_count": null,
      "outputs": [
        {
          "output_type": "stream",
          "name": "stdout",
          "text": [
            "Number of specs:  20\n",
            "Label:  0\n",
            "224\n",
            "Number of specs:  20\n",
            "Label:  0\n",
            "221\n"
          ]
        }
      ]
    },
    {
      "cell_type": "code",
      "source": [],
      "metadata": {
        "id": "Zxp3afUx2Tw-"
      },
      "execution_count": null,
      "outputs": []
    }
  ]
}